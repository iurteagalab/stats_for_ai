{
 "cells": [
  {
   "cell_type": "markdown",
   "metadata": {},
   "source": [
    "# Understanding Monte Carlo methods"
   ]
  },
  {
   "cell_type": "markdown",
   "metadata": {},
   "source": [
    "# Example 1: Coin Flip Example"
   ]
  },
  {
   "cell_type": "markdown",
   "metadata": {},
   "source": [
    "## Monte Carlo Approximation of an Integral using Bernoulli Draws\n",
    "\n",
    "This exercise demonstrates how to approximate an integral (sum) using Monte Carlo simulation.\n",
    "\n",
    "Specifically, we will estimate the expected value of a Bernoulli random variable.\n",
    "\n",
    "## Background: Bernoulli Distribution\n",
    "\n",
    "A Bernoulli distribution describes a random experiment with two possible outcomes: success (e.g., heads) or failure (e.g., tails).\n",
    "\n",
    "It's parameterized by a single value, *p*, which represents the probability of success.\n",
    "\n",
    "* **Random Variable:**\n",
    "    - Let $X$ be a Bernoulli random variable, denoted as $X ~ Bernoulli(p)$.\n",
    "* **Probability Mass Function (PMF):**\n",
    "    * $P(X = 1) = p$ (probability of success)\n",
    "    * $P(X = 0) = 1 - p$ (probability of failure)\n",
    "* **Expected Value (Mean):**\n",
    "    - $E[X] = p$\n",
    "* **Variance:**\n",
    "    - $Var(X) = p(1 - p)$\n",
    "\n",
    "## Problem Statement\n",
    "\n",
    "The goal is to estimate the expected value of a (Bernoulli) random variable using Monte Carlo simulation.\n",
    "\n",
    "## Monte Carlo Simulation\n",
    "\n",
    "We can approximate the expected value of a random variable using Monte Carlo simulation. The general procedure involves:\n",
    "\n",
    "1.  **Generate Random Samples:**\n",
    "    * Draw *N* independent random samples from the distribution.\n",
    "        - For $X \\sim Bernoulli(p)$, This is equivalent to simulating *N* coin flips, where each flip has a probability *p* of landing heads.\n",
    "    * Let these samples be denoted as $X_1, X_2, \\cdots, X_N$.\n",
    "\n",
    "2.  **Approximate the expected value**\n",
    "    * Expected Value of X:\n",
    "        - $E[X] = \\int x * f(x) dx = \\sum_x f(x) $\n",
    "    * Monte Carlo Estimation:\n",
    "        - $E[X] ≈ (1/N) * \\sum_{i=1}^{N} X_{i}$, with $X_i \\sim Bernoulli(p)$\n",
    "    * The sample mean of the generated samples serves as an approximation of the expected value of the Bernoulli random variable.\n",
    "    "
   ]
  },
  {
   "cell_type": "markdown",
   "metadata": {},
   "source": [
    "# Implementation"
   ]
  },
  {
   "cell_type": "code",
   "execution_count": 10,
   "metadata": {},
   "outputs": [],
   "source": [
    "# import require libraries\n",
    "import numpy as np\n",
    "import scipy.stats as stats\n",
    "import matplotlib.pyplot as plt\n"
   ]
  },
  {
   "cell_type": "code",
   "execution_count": 11,
   "metadata": {},
   "outputs": [],
   "source": [
    "# Define the coin-flip function, using scipy.stats.bernoulli.rvs\n",
    "def coin_flip(p):\n",
    "    return "
   ]
  },
  {
   "cell_type": "code",
   "execution_count": 12,
   "metadata": {},
   "outputs": [
    {
     "name": "stdout",
     "output_type": "stream",
     "text": [
      "None\n",
      "None\n",
      "None\n",
      "None\n",
      "None\n",
      "None\n",
      "None\n",
      "None\n",
      "None\n",
      "None\n"
     ]
    }
   ],
   "source": [
    "# Draw some samples/realizations from a fair coin-flip function\n",
    "for i in range(10):\n",
    "    print(\n",
    "        coin_flip(p=0.5)\n",
    "    )"
   ]
  },
  {
   "cell_type": "code",
   "execution_count": 13,
   "metadata": {},
   "outputs": [],
   "source": [
    "# Define the MC function that computes the expected value, given some samples\n",
    "def mc_expected_value(samples):\n",
    "    return "
   ]
  },
  {
   "cell_type": "code",
   "execution_count": 14,
   "metadata": {},
   "outputs": [],
   "source": [
    "# For a range of sample sizes, compute the expected value of the coin-flip function"
   ]
  },
  {
   "cell_type": "markdown",
   "metadata": {},
   "source": [
    "### What in the graph above is the \"epistemic uncertainty\"? And what is the aleatoric uncertainty?"
   ]
  },
  {
   "cell_type": "markdown",
   "metadata": {},
   "source": [
    "The epistemic uncertainty is the uncertainty in the expected value of the coin-flip function as a function of sample size.\n",
    "\n",
    "The aleatoric uncertainty is the uncertainty in the outcome of the coin flip itself, which is a random process governed by the probability p.\n",
    "\n",
    "The epistemic uncertainty decreases as the sample size increases, while the aleatoric uncertainty remains constant."
   ]
  },
  {
   "cell_type": "markdown",
   "metadata": {},
   "source": [
    "### Is the graph above always the same every-time you run it? What makes it change? Could you fix it?"
   ]
  },
  {
   "cell_type": "code",
   "execution_count": 15,
   "metadata": {},
   "outputs": [],
   "source": [
    "## Define the MC function that computes the variance of given samples\n",
    "def mc_variance(samples):\n",
    "    return "
   ]
  },
  {
   "cell_type": "code",
   "execution_count": 16,
   "metadata": {},
   "outputs": [],
   "source": [
    "## For a range of sample sizes, compute the variance of the coin-flip function\n"
   ]
  },
  {
   "cell_type": "markdown",
   "metadata": {},
   "source": [
    "### Extend the above to compute the expected value and variance of other distributions"
   ]
  },
  {
   "cell_type": "code",
   "execution_count": null,
   "metadata": {},
   "outputs": [],
   "source": []
  },
  {
   "cell_type": "markdown",
   "metadata": {},
   "source": [
    "# Example 2: Estimating $\\pi$ from a Circle and a Square\n",
    "\n",
    "## How to use MC sampling to compute/estimate the value of $\\pi$\n",
    "\n",
    "### Computing $\\pi$, based on the ratio of areas\n",
    "\n",
    "<img src=\"https://raw.githubusercontent.com/shiernee/Advanced_ML/main/Week2/EstimatePiFromCircleSquare.png\" width=\"256\"> \n",
    "\n",
    "To estimate the value of $\\pi$, we can use the area of circle and square. \n",
    "\n",
    "$$ \\frac{Area Circle}{Area Square} = \\frac{\\pi*r^2}{2r * 2r}  = \\frac{\\pi}{4}  $$\n",
    "\n",
    "$\\pi$ value can be estimate using the following formula\n",
    "\n",
    "$$ \\pi = 4* \\frac{Area \\ Circle}{Area \\ Square} $$\n",
    "\n",
    "### For ease of computation, \n",
    "\n",
    "Assum3 $r = 0.5$, and length_of_field = $2r = 1.0$\n",
    "\n",
    "## Monte Carlo approach to estimate the value of $\\pi$\n",
    "\n",
    "We will use MC sampling to compute the area of a unit circle, as well as the unit square that encloses it"
   ]
  },
  {
   "cell_type": "code",
   "execution_count": 17,
   "metadata": {},
   "outputs": [],
   "source": [
    "# Simulate a MC draw, as a \"raindrop\"\n",
    "# return x and y coordinates of raindrop, centered at 0\n",
    "def raindrop(length_of_field=1):\n",
    "    x \n",
    "    y \n",
    "    return x, y"
   ]
  },
  {
   "cell_type": "code",
   "execution_count": 18,
   "metadata": {},
   "outputs": [],
   "source": [
    "# Define function to check whether raindrop is inside circle\n",
    "def is_inside_circle(x, y, length_of_field=1):\n",
    "    return x**2 + y**2 < (length_of_field/2)**2\n"
   ]
  },
  {
   "cell_type": "code",
   "execution_count": 19,
   "metadata": {},
   "outputs": [],
   "source": [
    "# Draw a bunch of raindrops\n",
    "\n",
    "# Check whether each raindrop is inside the circle\n",
    "\n",
    "# Compute the fraction of raindrops that are inside the circle\n",
    "\n",
    "# Compute the estimated pi value\n",
    "\n",
    "# Print the estimated pi value\n",
    "\n",
    "# Plot the raindrops\n"
   ]
  },
  {
   "cell_type": "code",
   "execution_count": 20,
   "metadata": {},
   "outputs": [],
   "source": [
    "# Now evaluate the above simulation for a range of sample sizes\n",
    "\n",
    "# Plot the estimated pi value as a function of sample size\n"
   ]
  },
  {
   "cell_type": "markdown",
   "metadata": {},
   "source": [
    "### Is the above curve equal every-time you run the simulation?\n"
   ]
  },
  {
   "cell_type": "code",
   "execution_count": null,
   "metadata": {},
   "outputs": [],
   "source": []
  },
  {
   "cell_type": "markdown",
   "metadata": {},
   "source": [
    "## Are the curves above converging to the true value of pi?"
   ]
  },
  {
   "cell_type": "code",
   "execution_count": 21,
   "metadata": {},
   "outputs": [],
   "source": [
    "# Compute the absolute error of the estimated pi value\n",
    "\n",
    "# Plot the curve of absolute errors, is it converging to zero?\n"
   ]
  },
  {
   "cell_type": "markdown",
   "metadata": {},
   "source": [
    "## Replicate the above experiment for a range of different random seeds"
   ]
  },
  {
   "cell_type": "code",
   "execution_count": null,
   "metadata": {},
   "outputs": [],
   "source": []
  },
  {
   "cell_type": "code",
   "execution_count": 22,
   "metadata": {},
   "outputs": [],
   "source": [
    "# Plot the estimated pi value as a function of sample size\n"
   ]
  },
  {
   "cell_type": "code",
   "execution_count": 23,
   "metadata": {},
   "outputs": [],
   "source": [
    "# Plot the average and standard deviation of the estimated pi value as a function of sample size\n"
   ]
  },
  {
   "cell_type": "code",
   "execution_count": null,
   "metadata": {},
   "outputs": [],
   "source": []
  },
  {
   "cell_type": "markdown",
   "metadata": {},
   "source": [
    "# What is your problem of interest?\n",
    "- Are you trying to compute an integral in practice?\n",
    "- Can you think of ways of applying MC to solve your problem?"
   ]
  },
  {
   "cell_type": "code",
   "execution_count": null,
   "metadata": {},
   "outputs": [],
   "source": []
  }
 ],
 "metadata": {
  "kernelspec": {
   "display_name": "2025_stats_for_ai",
   "language": "python",
   "name": "python3"
  },
  "language_info": {
   "codemirror_mode": {
    "name": "ipython",
    "version": 3
   },
   "file_extension": ".py",
   "mimetype": "text/x-python",
   "name": "python",
   "nbconvert_exporter": "python",
   "pygments_lexer": "ipython3",
   "version": "3.13.2"
  }
 },
 "nbformat": 4,
 "nbformat_minor": 2
}
