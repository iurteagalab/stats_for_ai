{
 "cells": [
  {
   "cell_type": "code",
   "execution_count": null,
   "metadata": {},
   "outputs": [],
   "source": [
    "import numpy as np\n",
    "import pandas as pd\n",
    "import matplotlib.pyplot as plt\n",
    "\n",
    "# Useful sklearn imports\n",
    "from sklearn.linear_model import LogisticRegression\n",
    "from sklearn.metrics import (\n",
    "    accuracy_score,\n",
    "    confusion_matrix,\n",
    ")\n",
    "from sklearn.preprocessing import LabelEncoder, StandardScaler\n",
    "from sklearn.datasets import fetch_openml"
   ]
  },
  {
   "cell_type": "markdown",
   "metadata": {},
   "source": [
    "# Logistic regression"
   ]
  },
  {
   "cell_type": "markdown",
   "metadata": {},
   "source": [
    "## Data loading and exploration"
   ]
  },
  {
   "cell_type": "code",
   "execution_count": null,
   "metadata": {},
   "outputs": [],
   "source": [
    "# Data for logistic regression\n",
    "def real_data_logistic():\n",
    "    # We will load the Titanic dataset form openml\n",
    "    try:\n",
    "        titanic_data = fetch_openml(\n",
    "            name=\"titanic\",\n",
    "            version=1,\n",
    "            as_frame=True\n",
    "        )\n",
    "        df_titanic = titanic_data.frame.drop('body', axis=1)\n",
    "    except Exception as e:\n",
    "        print(f\"Error loading Titanic dataset: {e}.\")\n",
    "\n",
    "    # Features\n",
    "    X_titanic = df_titanic.drop('survived', axis=1)\n",
    "    # Target variable\n",
    "    y_titanic = df_titanic['survived']\n",
    "\n",
    "    return X_titanic, y_titanic"
   ]
  },
  {
   "cell_type": "markdown",
   "metadata": {},
   "source": [
    "### Get real data for logistic regression"
   ]
  },
  {
   "cell_type": "code",
   "execution_count": null,
   "metadata": {},
   "outputs": [],
   "source": [
    "X, y = real_data_logistic()"
   ]
  },
  {
   "cell_type": "markdown",
   "metadata": {},
   "source": [
    "### Explore the data, visualizing it, etc."
   ]
  },
  {
   "cell_type": "code",
   "execution_count": null,
   "metadata": {},
   "outputs": [],
   "source": [
    "# What type of data do we have?\n",
    "print('X data types:')\n",
    "print(X.dtypes)\n",
    "print('\\n')\n",
    "print('y data types:')\n",
    "print(y.dtypes)"
   ]
  },
  {
   "cell_type": "code",
   "execution_count": null,
   "metadata": {},
   "outputs": [],
   "source": [
    "X.head()"
   ]
  },
  {
   "cell_type": "code",
   "execution_count": null,
   "metadata": {},
   "outputs": [],
   "source": [
    "# Convert categorical variables to dummies\n",
    "X = pd.get_dummies(\n",
    "    X,\n",
    "    columns=['sex','embarked'],\n",
    "    drop_first=True)\n"
   ]
  },
  {
   "cell_type": "code",
   "execution_count": null,
   "metadata": {},
   "outputs": [],
   "source": [
    "X.head()"
   ]
  },
  {
   "cell_type": "code",
   "execution_count": null,
   "metadata": {},
   "outputs": [],
   "source": [
    "# Let's encode the categorical variables\n",
    "def encode_categorical(X):\n",
    "    # Select the categorical columns\n",
    "    cat_cols = X.select_dtypes(include=['object']).columns\n",
    "    print(f'Categorical columns: {cat_cols}')\n",
    "    \n",
    "    # Create a label encoder object\n",
    "    le = LabelEncoder()\n",
    "\n",
    "    # Apply the label encoder to each column\n",
    "    for col in cat_cols:\n",
    "        X[col] = le.fit_transform(X[col])\n",
    "\n",
    "    return X\n",
    "\n",
    "\n",
    "# The rest, simply encode\n",
    "X_encoded = encode_categorical(X)"
   ]
  },
  {
   "cell_type": "code",
   "execution_count": null,
   "metadata": {},
   "outputs": [],
   "source": [
    "X_encoded.head()"
   ]
  },
  {
   "cell_type": "code",
   "execution_count": null,
   "metadata": {},
   "outputs": [],
   "source": [
    "# Drop NaN values\n",
    "X_features = X_encoded.dropna()\n",
    "y_target = y.loc[X_features.index]"
   ]
  },
  {
   "cell_type": "markdown",
   "metadata": {},
   "source": [
    "## Fit a logistic regression model"
   ]
  },
  {
   "cell_type": "code",
   "execution_count": null,
   "metadata": {},
   "outputs": [],
   "source": [
    "# Define a Logistic Regression model\n",
    "???\n",
    "\n",
    "# MLE fitting\n",
    "???"
   ]
  },
  {
   "cell_type": "code",
   "execution_count": null,
   "metadata": {},
   "outputs": [],
   "source": [
    "# Look at the coefficients\n",
    "print('Model coefficients:')\n",
    "print(model_logistic.coef_)\n",
    "print('Model intercept:')\n",
    "print(model_logistic.intercept_)\n",
    "print('Model classes:')\n",
    "print(model_logistic.classes_)\n",
    "print('Model number of iterations:')\n",
    "print(model_logistic.n_iter_)\n",
    "print('Model score:')\n",
    "print(model_logistic.score(X_features, y_target))"
   ]
  },
  {
   "cell_type": "code",
   "execution_count": null,
   "metadata": {},
   "outputs": [],
   "source": [
    "# Evaluate the model\n",
    "y_pred_logistic = model_logistic.predict(X_features)\n",
    "y_pred_proba_logistic = model_logistic.predict_proba(X_features)[:, 1]  # Probabilities for ROC AUC\n",
    "\n",
    "print(\"--- Logistic Regression (Titanic Dataset) ---\")\n",
    "print(\"Accuracy:\", accuracy_score(y_target, y_pred_logistic))\n",
    "print(\"Confusion Matrix:\\n\", confusion_matrix(y_target, y_pred_logistic))"
   ]
  },
  {
   "cell_type": "markdown",
   "metadata": {},
   "source": [
    "# Multinomial logistic regression"
   ]
  },
  {
   "cell_type": "markdown",
   "metadata": {},
   "source": [
    "## Data loading and exploration"
   ]
  },
  {
   "cell_type": "code",
   "execution_count": null,
   "metadata": {},
   "outputs": [],
   "source": [
    "def real_data_multinomial():\n",
    "    # Load the Iris dataset\n",
    "    from sklearn.datasets import load_iris\n",
    "    iris_data = load_iris()\n",
    "    df_iris = pd.DataFrame(data=iris_data.data, columns=iris_data.feature_names)\n",
    "    df_iris['target'] = iris_data.target  # 0, 1, or 2\n",
    "\n",
    "    # Features\n",
    "    X_iris = df_iris.drop('target', axis=1)\n",
    "    # No need for significant preprocessing here, but good practice to scale\n",
    "    scaler = StandardScaler()\n",
    "    X_iris_scaled = scaler.fit_transform(X_iris) #scale the data\n",
    "    # Target variable\n",
    "    y_iris = df_iris['target']\n",
    "\n",
    "    return X_iris_scaled, y_iris, iris_data.feature_names, iris_data.target_names"
   ]
  },
  {
   "cell_type": "markdown",
   "metadata": {},
   "source": [
    "### Get real data for multinomial regression"
   ]
  },
  {
   "cell_type": "code",
   "execution_count": null,
   "metadata": {},
   "outputs": [],
   "source": [
    "X, y, feature_names, target_name = real_data_multinomial()"
   ]
  },
  {
   "cell_type": "markdown",
   "metadata": {},
   "source": [
    "### Feel free to explore the data, visualizing it, etc."
   ]
  },
  {
   "cell_type": "code",
   "execution_count": null,
   "metadata": {},
   "outputs": [],
   "source": [
    "# What type of data do we have?\n",
    "print('X with features={}'.format(feature_names))\n",
    "print(X)"
   ]
  },
  {
   "cell_type": "code",
   "execution_count": null,
   "metadata": {},
   "outputs": [],
   "source": [
    "print('y with target={}'.format(target_name))\n",
    "print(y)"
   ]
  },
  {
   "cell_type": "markdown",
   "metadata": {},
   "source": [
    "## Fit a multinomial regression model"
   ]
  },
  {
   "cell_type": "code",
   "execution_count": null,
   "metadata": {},
   "outputs": [],
   "source": [
    "# Define a multinomial logistic regression\n",
    "model_multinomial = LogisticRegression(\n",
    "    ???\n",
    ")\n",
    "\n",
    "# Fit the model\n",
    "model_multinomial.fit(\n",
    "    ???\n",
    ")"
   ]
  },
  {
   "cell_type": "code",
   "execution_count": null,
   "metadata": {},
   "outputs": [],
   "source": [
    "# Evaluate the model\n",
    "y_pred_multinomial = model_multinomial.predict(X)\n",
    "print(\"\\n--- Multinomial Logistic Regression (Iris Dataset) ---\")\n",
    "print(\"Accuracy:\", accuracy_score(y, y_pred_multinomial))\n",
    "print(\"Confusion Matrix:\\n\", confusion_matrix(y, y_pred_multinomial))"
   ]
  },
  {
   "cell_type": "code",
   "execution_count": null,
   "metadata": {},
   "outputs": [],
   "source": []
  }
 ],
 "metadata": {
  "kernelspec": {
   "display_name": "2025_stats_for_ai",
   "language": "python",
   "name": "python3"
  },
  "language_info": {
   "codemirror_mode": {
    "name": "ipython",
    "version": 3
   },
   "file_extension": ".py",
   "mimetype": "text/x-python",
   "name": "python",
   "nbconvert_exporter": "python",
   "pygments_lexer": "ipython3",
   "version": "3.13.2"
  }
 },
 "nbformat": 4,
 "nbformat_minor": 2
}
