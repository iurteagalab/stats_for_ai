{
 "cells": [
  {
   "cell_type": "markdown",
   "metadata": {},
   "source": [
    "# Bayesian statistics"
   ]
  },
  {
   "cell_type": "code",
   "execution_count": null,
   "metadata": {},
   "outputs": [],
   "source": [
    "# Imports\n",
    "import numpy as np\n",
    "import scipy.stats as stats\n",
    "import matplotlib.pyplot as plt"
   ]
  },
  {
   "cell_type": "markdown",
   "metadata": {},
   "source": [
    "# Bayesian Analysis of Emergency Room Patient Arrivals\n",
    "\n",
    "This notebook aims at illustrating how to use Bayesian inference for a practical example:\n",
    "\n",
    "- **The estimation of the average rate of patient arrivals at an emergency room per hour**\n"
   ]
  },
  {
   "cell_type": "markdown",
   "metadata": {},
   "source": [
    "## Bayesian framework: prior, likelihood and posterior\n",
    "\n",
    "For a Bayesian analysis, we need to define \n",
    "- a likelihood of the observed data, and\n",
    "- a prior distribution over the unknown parameters defining such likelihood\n",
    "\n",
    "Overall we have\n",
    "- Data: $D = \\{x_1, x_2, \\ldots, x_N\\}$\n",
    "    - in this case, data is number of patients per hour:\n",
    "        - so $x_i$ is the number of patients in the $i$-th hour, where $x_i \\in \\mathbb{N}$\n",
    "- Model: $p(x_i|\\theta)$, is a distribution of the number of patients per hour\n",
    "    - We need to decide what model makes sense\n",
    "    - $\\theta$ are the parameters of the data-distribution\n",
    "- Prior: $p(\\theta)$ is the probability of the parameters before observing the data\n",
    "- Likelihood: $p(D|\\theta)$ is the probability of observing the data given the parameters\n",
    "- Posterior: $p(\\theta|D) = \\frac{p(D|\\theta)p(\\theta)}{p(D)}$ is the probability of the parameters given the data"
   ]
  },
  {
   "cell_type": "markdown",
   "metadata": {},
   "source": [
    "### Model Definition\n",
    "\n",
    "* **Model:** We will assume that patient arrivals follow a Poisson distribution\n",
    "- Why? Because it is a common distribution for count data, and it is parameterized by $\\lambda$ which is the average arrival rate.\n",
    "    * $X \\sim Poisson(\\lambda)$,\n",
    "        - $X$ is the number of patient arrivals in an hour.\n",
    "    * $p(x|\\lambda) = \\frac{\\lambda^x e^{-\\lambda}}{x!}$\n",
    "    * Where:\n",
    "        * $k$ is a specific number of arrivals.\n",
    "    * $\\lambda$ is the average arrival rate (our parameter of interest).\n",
    "        * $E[X] = \\lambda$"
   ]
  },
  {
   "cell_type": "code",
   "execution_count": null,
   "metadata": {},
   "outputs": [],
   "source": [
    "# Let us understand the Poisson distribution with an example.\n",
    "\n",
    "# Define the Poisson distribution\n",
    "poisson_lambda = 10\n",
    "poisson_dist = stats.poisson(poisson_lambda)\n",
    "\n",
    "# x-space for the Poisson distribution\n",
    "x = np.arange(0, 20)"
   ]
  },
  {
   "cell_type": "code",
   "execution_count": null,
   "metadata": {},
   "outputs": [],
   "source": [
    "# Plot the probability mass function\n",
    "plt.bar(\n",
    "    x,\n",
    "    poisson_dist.pmf(x),\n",
    "    color='blue',\n",
    "    alpha=0.6,\n",
    "    align='center',\n",
    "    label='Poisson PMF'\n",
    ")\n",
    "plt.xlabel('Number of events')\n",
    "plt.ylabel('Probability')\n",
    "plt.title('Poisson Distribution')\n",
    "plt.show()"
   ]
  },
  {
   "cell_type": "code",
   "execution_count": null,
   "metadata": {},
   "outputs": [],
   "source": [
    "# Plot the CDF\n",
    "plt.bar(\n",
    "    x,\n",
    "    poisson_dist.cdf(x),\n",
    "    color='blue',\n",
    "    alpha=0.6,\n",
    "    align='center',\n",
    "    label='Poisson CDF',\n",
    ")\n",
    "plt.xlabel('Number of events')\n",
    "plt.ylabel('Probability')\n",
    "plt.title('Poisson Distribution')\n",
    "plt.show()"
   ]
  },
  {
   "cell_type": "markdown",
   "metadata": {},
   "source": [
    "### Prior Distribution\n",
    "\n",
    "- We will use a Gamma distribution as our prior:\n",
    "    - **Why?** Because the Gamma distribution is a conjugate prior to the Poisson distribution (i.e., we will get a Gamma distribution as our posterior).\n",
    "\n",
    "- Mathematically,\n",
    "    - $\\lambda \\sim \\text{Gamma}(\\alpha, \\beta)$\n",
    "    - Where:\n",
    "        * $\\alpha$ is the shape parameter.\n",
    "        * $\\beta$ is the rate parameter.\n"
   ]
  },
  {
   "cell_type": "code",
   "execution_count": null,
   "metadata": {},
   "outputs": [],
   "source": [
    "# Let us understand the Gamma distribution with an example.\n",
    "\n",
    "# Define the Gamma distribution\n",
    "gamma_alpha = 2\n",
    "gamma_beta = 3\n",
    "gamma_dist = stats.gamma(\n",
    "    gamma_alpha,\n",
    "    scale=1/gamma_beta\n",
    ")\n",
    "\n",
    "# x-space (theta) for the Gamma distribution\n",
    "theta = np.linspace(0, 10, 1000)"
   ]
  },
  {
   "cell_type": "code",
   "execution_count": null,
   "metadata": {},
   "outputs": [],
   "source": [
    "# Plot the probability density function\n"
   ]
  },
  {
   "cell_type": "code",
   "execution_count": null,
   "metadata": {},
   "outputs": [],
   "source": [
    "# Plot the CDF\n"
   ]
  },
  {
   "cell_type": "markdown",
   "metadata": {},
   "source": [
    "### Numerical simulation"
   ]
  },
  {
   "cell_type": "code",
   "execution_count": null,
   "metadata": {},
   "outputs": [],
   "source": [
    "# Define the Gamma prior, based on our prior knowledge\n"
   ]
  },
  {
   "cell_type": "markdown",
   "metadata": {},
   "source": [
    "### Data Collection\n",
    "\n",
    "- We observe patient arrivals for $n$ hours: $x = (x_1, x_2, ..., x_n)$.\n",
    "\n",
    "\n"
   ]
  },
  {
   "cell_type": "code",
   "execution_count": null,
   "metadata": {},
   "outputs": [],
   "source": [
    "# Observed data\n",
    "# Number of events\n",
    "data = np.array([3, 2, 5, 4, 3])\n",
    "n = len(data)\n",
    "# Not drawn from a Poisson distribution\n",
    "true_lambda = None"
   ]
  },
  {
   "cell_type": "markdown",
   "metadata": {},
   "source": [
    "### Posterior Distribution, after observing data\n",
    "\n",
    "- Due to Gamma-Poisson conjugacy, the posterior is also a Gamma distribution.v That is, the posterior distribution is a Gamma distribution with updated hyperparameters.\n",
    "    * $\\lambda | x \\sim \\text{Gamma}(\\alpha + \\sum x_i, \\beta + n)$\n",
    "    * Where:\n",
    "        * $\\sum x_i$ is the sum of observed arrivals.\n",
    "        * $n$ is the number of observed hours.\n",
    "        * $\\alpha^\\prime$ and $\\beta^\\prime$ are the hyperparameters of the prior Gamma distribution, which are updated to:\n",
    "            - $\\alpha^\\prime = \\alpha + \\sum x_i$,\n",
    "            - $\\beta^\\prime = \\beta + n$."
   ]
  },
  {
   "cell_type": "code",
   "execution_count": null,
   "metadata": {},
   "outputs": [],
   "source": [
    "# Compute posterior parameters\n"
   ]
  },
  {
   "cell_type": "markdown",
   "metadata": {},
   "source": [
    "## Analysis and Interpretation"
   ]
  },
  {
   "cell_type": "code",
   "execution_count": null,
   "metadata": {},
   "outputs": [],
   "source": [
    "# Calculate the prior mean and variance\n",
    "\n",
    "# Calculate the posterior mean and variance\n",
    "\n",
    "# Print the results"
   ]
  },
  {
   "cell_type": "code",
   "execution_count": null,
   "metadata": {},
   "outputs": [],
   "source": [
    "# Plot the prior and the posterior distributions\n",
    "x = np.linspace(0, 10, 200)\n",
    "# Prior pdf\n",
    "\n",
    "# Prior mean\n",
    "\n",
    "# Posterior pdf\n",
    "\n",
    "# Posterior mean\n"
   ]
  },
  {
   "cell_type": "code",
   "execution_count": null,
   "metadata": {},
   "outputs": [],
   "source": [
    "# Calculate the probability of observing a new data point greater than a threshold\n",
    "threshold = 2\n",
    "\n",
    "# Using the prior distribution\n",
    "\n",
    "# Using the posterior distribution\n",
    "\n",
    "\n",
    "# Print the results\n",
    "print(f\"Probability of observing a new data point greater than {threshold}:\")\n",
    "print(f\"Using the prior distribution: {probability_greater_than_threshold_prior}\")\n",
    "print(f\"Using the posterior distribution: {probability_greater_than_threshold_posterior}\")\n",
    "\n",
    "# Plot the probability of observing a new data point greater than threshold over the prior and the posterior distributions' pdfs\n"
   ]
  },
  {
   "cell_type": "code",
   "execution_count": null,
   "metadata": {},
   "outputs": [],
   "source": [
    "# Calculate the 95% credible interval\n",
    "# Using the prior distribution\n",
    "\n",
    "# Using the posterior distribution\n",
    "\n",
    "\n",
    "# Plot the 95% credible interval on the prior and posterior distributions\n",
    "x = np.linspace(0, 10, 200)\n",
    "# The prior\n",
    "# and its credible interval\n",
    "# The posterior\n",
    "# and its credible interval\n"
   ]
  },
  {
   "cell_type": "markdown",
   "metadata": {},
   "source": [
    "## Replicate the above with\n",
    "\n",
    "- Data from a Poisson distribution with a known rate parameter\n",
    "\n",
    "- An uninformative prior distribution\n"
   ]
  },
  {
   "cell_type": "code",
   "execution_count": null,
   "metadata": {},
   "outputs": [],
   "source": []
  },
  {
   "cell_type": "code",
   "execution_count": null,
   "metadata": {},
   "outputs": [],
   "source": []
  }
 ],
 "metadata": {
  "kernelspec": {
   "display_name": "2025_stats_for_ai",
   "language": "python",
   "name": "python3"
  },
  "language_info": {
   "codemirror_mode": {
    "name": "ipython",
    "version": 3
   },
   "file_extension": ".py",
   "mimetype": "text/x-python",
   "name": "python",
   "nbconvert_exporter": "python",
   "pygments_lexer": "ipython3",
   "version": "3.13.2"
  }
 },
 "nbformat": 4,
 "nbformat_minor": 2
}
