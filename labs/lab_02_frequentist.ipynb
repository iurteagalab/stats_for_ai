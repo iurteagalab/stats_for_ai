{
 "cells": [
  {
   "cell_type": "markdown",
   "metadata": {},
   "source": [
    "# Frequentist statistics and MLE"
   ]
  },
  {
   "cell_type": "code",
   "execution_count": 1,
   "metadata": {},
   "outputs": [],
   "source": [
    "# Imports\n",
    "import numpy as np\n",
    "import scipy.stats as stats\n",
    "import matplotlib.pyplot as plt"
   ]
  },
  {
   "cell_type": "markdown",
   "metadata": {},
   "source": [
    "## Let us understand the Maximum Likelihood Estimation (MLE) with an example\n",
    "\n",
    "Let us consider a random variable X that follows a normal distribution with mean $\\mu$ and variance $\\sigma^2$\n"
   ]
  },
  {
   "cell_type": "code",
   "execution_count": 2,
   "metadata": {},
   "outputs": [],
   "source": [
    "# Let us draw a sample of 1000 observations from the normal distribution with mean 0 and variance 1\n",
    "n_samples = 1000"
   ]
  },
  {
   "cell_type": "code",
   "execution_count": 3,
   "metadata": {},
   "outputs": [],
   "source": [
    "# Let us calculate the Maximum Likelihood Estimation (MLE) of the mean and variance of the normal distribution\n"
   ]
  },
  {
   "cell_type": "code",
   "execution_count": 4,
   "metadata": {},
   "outputs": [],
   "source": [
    "# Let us use scipy stats' fit function, to estimate the mean and variance of the normal distribution fitting the data\n"
   ]
  },
  {
   "cell_type": "code",
   "execution_count": 5,
   "metadata": {},
   "outputs": [],
   "source": [
    "# Compare the MLE of the mean and variance calculated by us and scipy, via MSE\n"
   ]
  },
  {
   "cell_type": "code",
   "execution_count": 6,
   "metadata": {},
   "outputs": [],
   "source": [
    "# Let us plot the histogram of the samples\n",
    "\n",
    "# Histogram of the sample\n",
    "\n",
    "# Normal distribution with the MLE of the mean and variance\n",
    "\n",
    "# Normal distribution with the true mean and variance\n"
   ]
  },
  {
   "cell_type": "markdown",
   "metadata": {},
   "source": [
    "### Evaluate how increasing the number of samples affects the MLE of the mean and variance"
   ]
  },
  {
   "cell_type": "code",
   "execution_count": 7,
   "metadata": {},
   "outputs": [],
   "source": [
    "# Evaluate how increasing the number of samples affects the MLE of the mean and variance\n",
    "n_samples = np.arange(10, 5000, 100)\n",
    "\n",
    "\n",
    "# Plot the MLE of the mean, as a function of the number of samples\n",
    "\n",
    "# True mean\n",
    "\n",
    "\n",
    "# Plot the MLE of the variance as a function of the number of samples\n",
    "\n",
    "# True variance\n"
   ]
  },
  {
   "cell_type": "code",
   "execution_count": null,
   "metadata": {},
   "outputs": [],
   "source": []
  }
 ],
 "metadata": {
  "kernelspec": {
   "display_name": "2025_stats_for_ai",
   "language": "python",
   "name": "python3"
  },
  "language_info": {
   "codemirror_mode": {
    "name": "ipython",
    "version": 3
   },
   "file_extension": ".py",
   "mimetype": "text/x-python",
   "name": "python",
   "nbconvert_exporter": "python",
   "pygments_lexer": "ipython3",
   "version": "3.13.2"
  }
 },
 "nbformat": 4,
 "nbformat_minor": 2
}
