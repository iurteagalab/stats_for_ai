{
 "cells": [
  {
   "cell_type": "code",
   "execution_count": 1,
   "metadata": {},
   "outputs": [],
   "source": [
    "# Imports\n",
    "import numpy as np\n",
    "import scipy.stats as stats\n",
    "import matplotlib.pyplot as plt\n",
    "import pandas as pd"
   ]
  },
  {
   "cell_type": "code",
   "execution_count": 9,
   "metadata": {},
   "outputs": [],
   "source": [
    "# Load data from the csv file\n",
    "data = pd.read_csv('dataset_charges.csv')"
   ]
  },
  {
   "cell_type": "markdown",
   "metadata": {},
   "source": [
    "- age: age of primary beneficiary\n",
    "\n",
    "- sex: insurance contractor gender (female/ male)\n",
    "\n",
    "- bmi: Body mass index, providing an understanding of body, weights that are relatively high or low relative to height, objective index of body weight $(kg / m^2)$ using the ratio of height to weight, ideally 18.5 to 24.9\n",
    "\n",
    "- children: Number of children covered by health insurance \n",
    "\n",
    "- smoker: Smoking (yes / no)\n",
    "\n",
    "- region: the beneficiary's residential area in the US, northeast, southeast, southwest, northwest.\n",
    "\n",
    "- charges: Individual medical costs billed by health insurance"
   ]
  },
  {
   "cell_type": "code",
   "execution_count": 7,
   "metadata": {},
   "outputs": [
    {
     "name": "stdout",
     "output_type": "stream",
     "text": [
      "   Unnamed: 0  age     sex     bmi  children smoker     region      charges\n",
      "0           1   19  female  27.900         0    yes  southwest  16884.92400\n",
      "1           2   18    male  33.770         1     no  southeast   1725.55230\n",
      "2           3   28    male  33.000         3     no  southeast   4449.46200\n",
      "3           4   33    male  22.705         0     no  northwest  21984.47061\n",
      "4           5   32    male  28.880         0     no  northwest   3866.85520\n"
     ]
    }
   ],
   "source": [
    "# Display the first 5 rows of the data\n",
    "print(data.head())"
   ]
  },
  {
   "cell_type": "markdown",
   "metadata": {},
   "source": [
    "# We want to predict charges: $Y$ is column charges\n",
    "\n",
    "- Covariates of interest are the rest of the columns\n",
    "\n",
    "- We think that the expected value of charges depends on the different values of such covariates.\n",
    "\n",
    "## What distribution does Y have?\n",
    "\n",
    "- Is it a Normal, Bernoulli, etc?\n",
    "\n",
    "- Can you think of a transformation that might make it look more like a known distribution?\n",
    "\n",
    "## What types of covariates do you have?\n",
    "\n",
    "- Are they continuous, categorical, binary?\n",
    "\n",
    "## Do you think it makes sense to do a regression?\n",
    "\n",
    "- If so, what model do you want to use?"
   ]
  },
  {
   "cell_type": "markdown",
   "metadata": {},
   "source": []
  }
 ],
 "metadata": {
  "kernelspec": {
   "display_name": "2025_stats_for_ai",
   "language": "python",
   "name": "python3"
  },
  "language_info": {
   "codemirror_mode": {
    "name": "ipython",
    "version": 3
   },
   "file_extension": ".py",
   "mimetype": "text/x-python",
   "name": "python",
   "nbconvert_exporter": "python",
   "pygments_lexer": "ipython3",
   "version": "3.13.2"
  }
 },
 "nbformat": 4,
 "nbformat_minor": 2
}
